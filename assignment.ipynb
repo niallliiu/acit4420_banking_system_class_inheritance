{
 "cells": [
  {
   "cell_type": "markdown",
   "id": "af1a99ca",
   "metadata": {},
   "source": [
    "### Final Code & Debug "
   ]
  },
  {
   "cell_type": "code",
   "execution_count": 4,
   "id": "14bbfaca",
   "metadata": {},
   "outputs": [],
   "source": [
    "from decimal import Decimal, ROUND_HALF_UP, getcontext\n",
    "from typing import Any, Tuple\n",
    "\n",
    "getcontext().prec = 28\n",
    "\n",
    "def decimal(value):\n",
    "    if isinstance(value, Decimal):\n",
    "        return value\n",
    "    try:\n",
    "        text_version = str(value)\n",
    "        return Decimal(text_version)\n",
    "    except Exception as exc:\n",
    "        raise TypeError(f\"The amount has to be a number, got {type(value).__name__}\") from exc\n",
    "\n",
    "def format_dec(value):\n",
    "    return str(value.quantize(Decimal(\"0.01\"), rounding=ROUND_HALF_UP))\n",
    "\n",
    "class BankAccount:\n",
    "    def __init__(self, account_holder: str, balance: Any = \"0.00\") -> None:\n",
    "        self.account_holder = account_holder\n",
    "        self.balance = decimal(balance)\n",
    "\n",
    "    def deposit(self, amount: Any) -> Decimal:\n",
    "        amount_to_add = decimal(amount)\n",
    "        if amount_to_add <= 0:\n",
    "            raise ValueError(\"Amount must be greater than 0\")  \n",
    "        current_balance = self.balance\n",
    "        new_balance = current_balance + amount_to_add\n",
    "        self.balance = new_balance\n",
    "        return self.balance\n",
    "\n",
    "    def withdraw(self, amount: Any) -> Tuple[bool, Decimal]:\n",
    "        amount_to_withdraw = decimal(amount)\n",
    "        if amount_to_withdraw <= 0:\n",
    "            raise ValueError(\"Amount must be greater than 0\")\n",
    "        if self.balance < amount_to_withdraw:\n",
    "            print(\"Insufficient funds\")\n",
    "            return False, self.balance\n",
    "        current_balance = self.balance\n",
    "        updated_balance = current_balance - amount_to_withdraw\n",
    "        self.balance = updated_balance\n",
    "        return True, self.balance\n",
    "\n",
    "    def account_info(self) -> str:\n",
    "        nice_balance = format_dec(self.balance)\n",
    "        return f\"Account holder: {self.account_holder}, Balance: {nice_balance}\"\n",
    "    \n",
    "class SavingsAccount(BankAccount):\n",
    "    def __init__(self, account_holder: str, balance: Any = \"0.00\", interest_rate: Any = \"0.02\") -> None:\n",
    "        super().__init__(account_holder, balance)\n",
    "        self.interest_rate = decimal(interest_rate)\n",
    "\n",
    "    def apply_interest(self) -> Decimal:\n",
    "        one = Decimal(\"1\")\n",
    "        growth_factor = one + self.interest_rate\n",
    "        current_balance = self.balance\n",
    "        new_balance = current_balance * growth_factor\n",
    "        self.balance = new_balance\n",
    "        return self.balance\n",
    "\n",
    "class CheckingAccount(BankAccount):\n",
    "    def __init__(self, account_holder: str, balance: Any = \"0.00\", transaction_fee: Any = \"1.00\") -> None:\n",
    "        super().__init__(account_holder, balance)\n",
    "        self.transaction_fee = decimal(transaction_fee)\n",
    "\n",
    "    def withdraw(self, amount: Any) -> Tuple[bool, Decimal]:\n",
    "        total = decimal(amount) + self.transaction_fee\n",
    "        return super().withdraw(total)\n"
   ]
  },
  {
   "cell_type": "code",
   "execution_count": 5,
   "id": "6633e071",
   "metadata": {},
   "outputs": [
    {
     "name": "stdout",
     "output_type": "stream",
     "text": [
      "If error: TypeError - The amount has to be a number, got object\n",
      "If error: NameError - name 'abc' is not defined\n",
      "withdraw(-5): ValueError - Amount must be greater than 0\n",
      "deposit(0) error: ValueError - Amount must be greater than 0\n"
     ]
    }
   ],
   "source": [
    "b1 = BankAccount(\"Test 15\", 0)\n",
    "\n",
    "try:\n",
    "    b1.deposit(object())\n",
    "except Exception as e:\n",
    "    print(\"If error:\", type(e).__name__, \"-\", e)\n",
    "\n",
    "try:\n",
    "    b1.deposit(object(abc))\n",
    "except Exception as e:\n",
    "    print(\"If error:\", type(e).__name__, \"-\", e)\n",
    "\n",
    "try:\n",
    "    b1.withdraw(-5)\n",
    "except Exception as e:\n",
    "    print(\"withdraw(-5):\", type(e).__name__, \"-\", e)\n",
    "\n",
    "try:\n",
    "    b1.deposit(0)\n",
    "except Exception as e:\n",
    "    print(\"deposit(0) error:\", type(e).__name__, \"-\", e)"
   ]
  },
  {
   "cell_type": "code",
   "execution_count": 6,
   "id": "3a627198",
   "metadata": {},
   "outputs": [
    {
     "name": "stdout",
     "output_type": "stream",
     "text": [
      "Start: Account holder: Test 1, Balance: 0.00\n",
      "After deposit 100: Account holder: Test 1, Balance: 175.00\n",
      "Withdraw 50 ok?: True\n",
      "After withdraw: Account holder: Test 1, Balance: 149.00\n",
      "Before: Account holder: Test 2, Balance: 100.00\n",
      "After apply_interest: Account holder: Test 2, Balance: 102.00\n",
      "Before: Account holder: Test 3, Balance: 200.00\n",
      "After apply_interest: Account holder: Test 3, Balance: 230.00\n",
      "Start: Account holder: Test 4, Balance: 100.00\n",
      "Withdraw 10 authorization: True\n",
      "After: Account holder: Test 4, Balance: 89.00\n",
      "Start: Account holder: Test 5, Balance: 10.00\n",
      "Insufficient funds\n",
      "Withdraw 10 authorization: False\n",
      "Account holder: Test 5, Balance: 10.00\n"
     ]
    }
   ],
   "source": [
    "k1 = BankAccount(\"Test 1\", 0)\n",
    "print(\"Start:\", k1.account_info())            \n",
    "k1.deposit(175)\n",
    "print(\"After deposit 100:\", k1.account_info())\n",
    "ok, _ = k1.withdraw(26)\n",
    "print(\"Withdraw 50 ok?:\", ok)\n",
    "print(\"After withdraw:\", k1.account_info())\n",
    "\n",
    "# savings account fixed interest 2%\n",
    "s1 = SavingsAccount(\"Test 2\", 100)          \n",
    "print(\"Before:\", s1.account_info())         \n",
    "s1.apply_interest()\n",
    "print(\"After apply_interest:\", s1.account_info()) \n",
    "\n",
    "# savings account custom interest with 15%\n",
    "s2 = SavingsAccount(\"Test 3\", 200, interest_rate=\"0.15\")\n",
    "print(\"Before:\", s2.account_info())           \n",
    "s2.apply_interest()\n",
    "print(\"After apply_interest:\", s2.account_info())\n",
    "\n",
    "# withdraw 10 with fee  1 \n",
    "c1 = CheckingAccount(\"Test 4\", 100, transaction_fee=\"1.00\")\n",
    "print(\"Start:\", c1.account_info())          \n",
    "ok, _ = c1.withdraw(10)                      \n",
    "print(\"Withdraw 10 authorization:\", ok)\n",
    "print(\"After:\", c1.account_info())  \n",
    "\n",
    "# fee and over-withdraw\n",
    "c2 = CheckingAccount(\"Test 5\", 10, transaction_fee=\"1\")\n",
    "print(\"Start:\", c2.account_info())         \n",
    "ok, _ = c2.withdraw(10)                       \n",
    "print(\"Withdraw 10 authorization:\", ok)\n",
    "print(c2.account_info())"
   ]
  },
  {
   "cell_type": "markdown",
   "id": "4baff167",
   "metadata": {},
   "source": [
    "### Assignment Step by Step"
   ]
  },
  {
   "cell_type": "markdown",
   "id": "70aa18e7",
   "metadata": {},
   "source": [
    "### 1. Design and Implement the Class Structure:\n",
    "##### o Create a base class BankAccount with the attributes and methods specified above.\n",
    "##### o Create derived classes SavingsAccount and CheckingAccount that inherit from BankAccount and implement additional functionality specific to each type of account."
   ]
  },
  {
   "cell_type": "markdown",
   "id": "7381a7f0",
   "metadata": {},
   "source": [
    "1. Base Class: BankAccount\n",
    "###### o Attributes: \n",
    "###### account_holder: Name of the account holder.\n",
    "###### alance: The current balance (initialized to 0 by default).\n",
    "###### o Methods:\n",
    "###### deposit(amount): Adds the specified amount to the account balance.\n",
    "###### withdraw(amount): Subtracts the specified amount from the balance, if sufficient funds exist. If not, print a message indicating insufficient funds. \n",
    "###### account_info(): Returns the account holder's name and current balance."
   ]
  },
  {
   "cell_type": "code",
   "execution_count": 7,
   "id": "f500bad4",
   "metadata": {},
   "outputs": [],
   "source": [
    "from decimal import Decimal, ROUND_HALF_UP, getcontext\n",
    "from typing import Any, Tuple"
   ]
  },
  {
   "cell_type": "code",
   "execution_count": 8,
   "id": "07ba6486",
   "metadata": {},
   "outputs": [],
   "source": [
    "getcontext().prec = 28"
   ]
  },
  {
   "cell_type": "code",
   "execution_count": 9,
   "id": "e9304798",
   "metadata": {},
   "outputs": [],
   "source": [
    "def decimal(value):\n",
    "    if isinstance(value, Decimal):\n",
    "        return value\n",
    "    try:\n",
    "        text_version = str(value)\n",
    "        return Decimal(text_version)\n",
    "    except Exception as exc:\n",
    "        raise TypeError(f\"The amount has to be a number, got {type(value).__name__}\") from exc\n",
    "\n",
    "def format_dec(value):\n",
    "    return str(value.quantize(Decimal(\"0.01\"), rounding=ROUND_HALF_UP))"
   ]
  },
  {
   "cell_type": "code",
   "execution_count": 10,
   "id": "411423c8",
   "metadata": {},
   "outputs": [],
   "source": [
    "class BankAccount:\n",
    "    def __init__(self, account_holder: str, balance: Any = \"0.00\") -> None:\n",
    "        self.account_holder = account_holder\n",
    "        self.balance = decimal(balance)\n",
    "\n",
    "    def deposit(self, amount: Any) -> Decimal:\n",
    "        amount_to_add = decimal(amount)\n",
    "        if amount_to_add <= 0:\n",
    "            raise ValueError(\"Amount must be greater than 0\") \n",
    "        current_balance = self.balance\n",
    "        new_balance = current_balance + amount_to_add\n",
    "        self.balance = new_balance\n",
    "        return self.balance\n"
   ]
  },
  {
   "cell_type": "markdown",
   "id": "173a5b72",
   "metadata": {},
   "source": [
    "##### Adding withdrawl in class"
   ]
  },
  {
   "cell_type": "code",
   "execution_count": 11,
   "id": "53ee34ca",
   "metadata": {},
   "outputs": [],
   "source": [
    "class BankAccount:\n",
    "    def __init__(self, account_holder: str, balance: Any = \"0.00\") -> None:\n",
    "        self.account_holder = account_holder\n",
    "        self.balance = decimal(balance)\n",
    "\n",
    "    def deposit(self, amount: Any) -> Decimal:\n",
    "        amount_to_add = decimal(amount)\n",
    "        if amount_to_add <= 0:\n",
    "            raise ValueError(\"Amount must be greater than 0\")\n",
    "        current_balance = self.balance\n",
    "        new_balance = current_balance + amount_to_add\n",
    "        self.balance = new_balance\n",
    "        return self.balance\n",
    "\n",
    "    def withdraw(self, amount: Any) -> Tuple[bool, Decimal]:\n",
    "        \"\"\"Take money out if there is enough (returns (ok, new_balance)).\"\"\"\n",
    "        amount_to_withdraw = decimal(amount)\n",
    "        if amount_to_withdraw <= 0:\n",
    "            raise ValueError(\"Amount must be greater than 0\")\n",
    "        # check funds the simple way\n",
    "        if self.balance < amount_to_withdraw:\n",
    "            print(\"Insufficient funds\")\n",
    "            return False, self.balance\n",
    "        current_balance = self.balance\n",
    "        updated_balance = current_balance - amount_to_withdraw\n",
    "        self.balance = updated_balance\n",
    "        return True, self.balance"
   ]
  },
  {
   "cell_type": "markdown",
   "id": "4e5d5b5e",
   "metadata": {},
   "source": [
    "##### Adding account info in class"
   ]
  },
  {
   "cell_type": "code",
   "execution_count": 12,
   "id": "477c0534",
   "metadata": {},
   "outputs": [],
   "source": [
    "class BankAccount:\n",
    "    def __init__(self, account_holder: str, balance: Any = \"0.00\") -> None:\n",
    "        self.account_holder = account_holder\n",
    "        self.balance = decimal(balance)\n",
    "\n",
    "    def deposit(self, amount: Any) -> Decimal:\n",
    "        amount_to_add = decimal(amount)\n",
    "        if amount_to_add <= 0:\n",
    "            raise ValueError(\"Amount must be greater than 0\")  \n",
    "        current_balance = self.balance\n",
    "        new_balance = current_balance + amount_to_add\n",
    "        self.balance = new_balance\n",
    "        return self.balance\n",
    "\n",
    "    def withdraw(self, amount: Any) -> Tuple[bool, Decimal]:\n",
    "        amount_to_withdraw = decimal(amount)\n",
    "        if amount_to_withdraw <= 0:\n",
    "            raise ValueError(\"Amount must be greater than 0\")\n",
    "        if self.balance < amount_to_withdraw:\n",
    "            print(\"Insufficient funds\")\n",
    "            return False, self.balance\n",
    "        current_balance = self.balance\n",
    "        updated_balance = current_balance - amount_to_withdraw\n",
    "        self.balance = updated_balance\n",
    "        return True, self.balance\n",
    "\n",
    "    def account_info(self) -> str:\n",
    "        nice_balance = format_dec(self.balance)\n",
    "        return f\"Account holder: {self.account_holder}, Balance: {nice_balance}\""
   ]
  },
  {
   "cell_type": "code",
   "execution_count": 13,
   "id": "334addb6",
   "metadata": {},
   "outputs": [
    {
     "name": "stdout",
     "output_type": "stream",
     "text": [
      "Account holder: You, Balance: 50.00\n"
     ]
    }
   ],
   "source": [
    "acc = BankAccount(\"You\")\n",
    "acc.deposit(50)\n",
    "info = acc.account_info()\n",
    "print(info)"
   ]
  },
  {
   "cell_type": "markdown",
   "id": "cb4b1ecc",
   "metadata": {},
   "source": [
    "2. Derived Class: SavingsAccount\n",
    "###### o Attributes:\n",
    "###### interest_rate: A fixed interest rate (e.g., 2% annually).\n",
    "###### o Methods:\n",
    "###### apply_interest(): Applies the interest to the balance. (e.g., increases the balance by multiplying it by (1 + interest_rate))."
   ]
  },
  {
   "cell_type": "code",
   "execution_count": 14,
   "id": "3f67f77f",
   "metadata": {},
   "outputs": [],
   "source": [
    "class SavingsAccount(BankAccount):\n",
    "    def __init__(self, account_holder: str, balance: Any = \"0.00\", interest_rate: Any = \"0.02\") -> None:\n",
    "        super().__init__(account_holder, balance)\n",
    "        self.interest_rate = decimal(interest_rate)\n",
    "\n",
    "    def apply_interest(self) -> Decimal:\n",
    "        one = Decimal(\"1\")\n",
    "        growth_factor = one + self.interest_rate\n",
    "        current_balance = self.balance\n",
    "        new_balance = current_balance * growth_factor\n",
    "        self.balance = new_balance\n",
    "        return self.balance"
   ]
  },
  {
   "cell_type": "markdown",
   "id": "ab2e4e2e",
   "metadata": {},
   "source": [
    "3. Derived Class: CheckingAccount\n",
    "###### o Attributes:\n",
    "###### transaction_fee: A fixed fee (e.g., $1) that is charged for every withdrawal.\n",
    "###### o Methods:\n",
    "###### withdraw(amount): This method overrides the base class method to subtract the transaction fee in addition to the withdrawn amount."
   ]
  },
  {
   "cell_type": "code",
   "execution_count": 15,
   "id": "a71419ae",
   "metadata": {},
   "outputs": [],
   "source": [
    "class CheckingAccount(BankAccount):\n",
    "    def __init__(self, account_holder: str, balance: Any = \"0.00\", transaction_fee: Any = \"1.00\") -> None:\n",
    "        super().__init__(account_holder, balance)\n",
    "        self.transaction_fee = decimal(transaction_fee)\n",
    "\n",
    "    def withdraw(self, amount: Any) -> Tuple[bool, Decimal]:\n",
    "        amount_user_wants = decimal(amount)\n",
    "        if amount_user_wants <= 0:\n",
    "            raise ValueError(\"Amount must be greater than 0\")\n",
    "        total_to_subtract = amount_user_wants + self.transaction_fee\n",
    "        if self.balance < total_to_subtract:\n",
    "            print(\"Insufficient funds\")\n",
    "            return False, self.balance\n",
    "        before = self.balance\n",
    "        after = before - total_to_subtract\n",
    "        self.balance = after\n",
    "        return True, self.balance"
   ]
  },
  {
   "cell_type": "markdown",
   "id": "7d9dd677",
   "metadata": {},
   "source": [
    "### 2. Inheritance and Method Overriding:\n",
    "##### o Ensure that the withdraw() method in CheckingAccount correctly overrides the withdraw() method from BankAccount."
   ]
  },
  {
   "cell_type": "code",
   "execution_count": 16,
   "id": "fb7bb472",
   "metadata": {},
   "outputs": [
    {
     "name": "stdout",
     "output_type": "stream",
     "text": [
      "Same function object? False\n"
     ]
    }
   ],
   "source": [
    "#wrote a new withdraw in CheckingAccount that charges a fee, \n",
    "#so it’s a different function than BankAccount.withdraw. \n",
    "#They’re two different functions, comparing them with is (same object?) taht returns False.\n",
    "\n",
    "print(\"Same function object?\",\n",
    "      BankAccount.withdraw is CheckingAccount.withdraw)"
   ]
  },
  {
   "cell_type": "code",
   "execution_count": 17,
   "id": "8e11c3ef",
   "metadata": {},
   "outputs": [
    {
     "name": "stdout",
     "output_type": "stream",
     "text": [
      "Call via ref (base) -> True Account holder: Tester, Balance: 89.00\n"
     ]
    }
   ],
   "source": [
    "ref: BankAccount = CheckingAccount(\"Tester\", balance=\"100.00\", transaction_fee=\"1.00\")\n",
    "# testing if withdraw 10, it should cost 11 with the fee, \n",
    "# it should have balance of 89.00 if override is active\n",
    "ok, bal = ref.withdraw(10)\n",
    "print(\"Call via ref (base) ->\", ok, ref.account_info())"
   ]
  },
  {
   "cell_type": "markdown",
   "id": "8cfa0fed",
   "metadata": {},
   "source": [
    "##### o Ensure that SavingsAccount has a method apply_interest() that applies the interest rate to the balance."
   ]
  },
  {
   "cell_type": "code",
   "execution_count": 18,
   "id": "5dba619c",
   "metadata": {},
   "outputs": [
    {
     "name": "stdout",
     "output_type": "stream",
     "text": [
      "Before: Account holder: You, Balance: 100.00\n",
      "After:  Account holder: You, Balance: 102.00\n"
     ]
    }
   ],
   "source": [
    "#fixed interest applied test \n",
    "\n",
    "s1 = SavingsAccount(\"You\", 100)\n",
    "print(\"Before:\", s1.account_info())   # 100.00\n",
    "s1.apply_interest()\n",
    "print(\"After: \", s1.account_info())   # 102.00"
   ]
  },
  {
   "cell_type": "code",
   "execution_count": 19,
   "id": "2460ecbd",
   "metadata": {},
   "outputs": [
    {
     "name": "stdout",
     "output_type": "stream",
     "text": [
      "Before: Account holder: zero balance man, Balance: 0.00\n",
      "After:  Account holder: zero balance man, Balance: 0.00\n"
     ]
    }
   ],
   "source": [
    "# zero balance edge\n",
    "\n",
    "s3 = SavingsAccount(\"zero balance man\", 0, interest_rate=\"0.02\")\n",
    "print(\"Before:\", s3.account_info())   # 0.00\n",
    "s3.apply_interest()\n",
    "print(\"After: \", s3.account_info())   # 0.00"
   ]
  },
  {
   "cell_type": "markdown",
   "id": "8861179d",
   "metadata": {},
   "source": [
    "### 3. Debugging:\n",
    "##### o Test the classes with various inputs to ensure correct behavior (e.g., deposit 100, withdraw 50, try over-withdrawing, apply interest, etc)."
   ]
  },
  {
   "cell_type": "code",
   "execution_count": 20,
   "id": "1a3cf66c",
   "metadata": {},
   "outputs": [
    {
     "name": "stdout",
     "output_type": "stream",
     "text": [
      "Start: Account holder: Test 1, Balance: 0.00\n",
      "After deposit 100: Account holder: Test 1, Balance: 175.00\n",
      "Withdraw 50 ok?: True\n",
      "After withdraw: Account holder: Test 1, Balance: 149.00\n"
     ]
    }
   ],
   "source": [
    "# BankAccount test deposit 175 and withdraw 26\n",
    "\n",
    "b1 = BankAccount(\"Test 1\", 0)\n",
    "print(\"Start:\", b1.account_info())            \n",
    "b1.deposit(175)\n",
    "print(\"After deposit 100:\", b1.account_info())\n",
    "ok, _ = b1.withdraw(26)\n",
    "print(\"Withdraw 50 ok?:\", ok)\n",
    "print(\"After withdraw:\", b1.account_info())\n"
   ]
  },
  {
   "cell_type": "markdown",
   "id": "cb3207fb",
   "metadata": {},
   "source": [
    "##### o Ensure that the interest is correctly applied to the balance in SavingsAccount."
   ]
  },
  {
   "cell_type": "code",
   "execution_count": 21,
   "id": "e5085a53",
   "metadata": {},
   "outputs": [
    {
     "name": "stdout",
     "output_type": "stream",
     "text": [
      "Before: Account holder: Test 2, Balance: 100.00\n",
      "After apply_interest: Account holder: Test 2, Balance: 102.00\n"
     ]
    }
   ],
   "source": [
    "# savings account fixed interest 2%\n",
    "s1 = SavingsAccount(\"Test 2\", 100)          \n",
    "print(\"Before:\", s1.account_info())         \n",
    "s1.apply_interest()\n",
    "print(\"After apply_interest:\", s1.account_info()) \n"
   ]
  },
  {
   "cell_type": "code",
   "execution_count": 22,
   "id": "f58b7559",
   "metadata": {},
   "outputs": [
    {
     "name": "stdout",
     "output_type": "stream",
     "text": [
      "Before: Account holder: Test 3, Balance: 200.00\n",
      "After apply_interest: Account holder: Test 3, Balance: 230.00\n"
     ]
    }
   ],
   "source": [
    "# savings account custom interest with 15%\n",
    "s2 = SavingsAccount(\"Test 3\", 200, interest_rate=\"0.15\")\n",
    "print(\"Before:\", s2.account_info())           \n",
    "s2.apply_interest()\n",
    "print(\"After apply_interest:\", s2.account_info())"
   ]
  },
  {
   "cell_type": "markdown",
   "id": "9935aa4d",
   "metadata": {},
   "source": [
    "##### o Ensure that withdrawing funds from a CheckingAccount deducts both the withdrawal amount and the transaction fee."
   ]
  },
  {
   "cell_type": "code",
   "execution_count": 23,
   "id": "9b7ca7b2",
   "metadata": {},
   "outputs": [
    {
     "name": "stdout",
     "output_type": "stream",
     "text": [
      "Start: Account holder: Test 4, Balance: 100.00\n",
      "Withdraw 10 authorization: True\n",
      "After: Account holder: Test 4, Balance: 89.00\n"
     ]
    }
   ],
   "source": [
    "# withdraw 10 with fee  1 \n",
    "c1 = CheckingAccount(\"Test 4\", 100, transaction_fee=\"1.00\")\n",
    "print(\"Start:\", c1.account_info())          \n",
    "ok, _ = c1.withdraw(10)                      \n",
    "print(\"Withdraw 10 authorization:\", ok)\n",
    "print(\"After:\", c1.account_info())  "
   ]
  },
  {
   "cell_type": "code",
   "execution_count": 24,
   "id": "02170e75",
   "metadata": {},
   "outputs": [
    {
     "name": "stdout",
     "output_type": "stream",
     "text": [
      "Start: Account holder: Test 5, Balance: 10.00\n",
      "Insufficient funds\n",
      "Withdraw 10 authorization: False\n",
      "Account holder: Test 5, Balance: 10.00\n"
     ]
    }
   ],
   "source": [
    "# fee and over-withdraw\n",
    "c2 = CheckingAccount(\"Test 5\", 10, transaction_fee=\"1\")\n",
    "print(\"Start:\", c2.account_info())         \n",
    "ok, _ = c2.withdraw(10)                       \n",
    "print(\"Withdraw 10 authorization:\", ok)\n",
    "print(c2.account_info())"
   ]
  },
  {
   "cell_type": "code",
   "execution_count": 25,
   "id": "f2025cc7",
   "metadata": {},
   "outputs": [],
   "source": [
    "b1 = BankAccount(\"Test 15\", 0)"
   ]
  },
  {
   "cell_type": "code",
   "execution_count": 26,
   "id": "899c4855",
   "metadata": {},
   "outputs": [
    {
     "name": "stdout",
     "output_type": "stream",
     "text": [
      "deposit(0) error: ValueError - Amount must be greater than 0\n"
     ]
    }
   ],
   "source": [
    "try:\n",
    "    b1.deposit(0)\n",
    "except Exception as e:\n",
    "    print(\"deposit(0) error:\", type(e).__name__, \"-\", e)"
   ]
  },
  {
   "cell_type": "code",
   "execution_count": 27,
   "id": "821a212b",
   "metadata": {},
   "outputs": [
    {
     "name": "stdout",
     "output_type": "stream",
     "text": [
      "withdraw(-5): ValueError - Amount must be greater than 0\n"
     ]
    }
   ],
   "source": [
    "try:\n",
    "    b1.withdraw(-5)\n",
    "except Exception as e:\n",
    "    print(\"withdraw(-5):\", type(e).__name__, \"-\", e)"
   ]
  },
  {
   "cell_type": "code",
   "execution_count": 28,
   "id": "294c958d",
   "metadata": {},
   "outputs": [
    {
     "name": "stdout",
     "output_type": "stream",
     "text": [
      "If error: NameError - name 'abc' is not defined\n"
     ]
    }
   ],
   "source": [
    "try:\n",
    "    b1.deposit(object(abc))\n",
    "except Exception as e:\n",
    "    print(\"If error:\", type(e).__name__, \"-\", e)"
   ]
  },
  {
   "cell_type": "code",
   "execution_count": 29,
   "id": "3ec8ca65",
   "metadata": {},
   "outputs": [
    {
     "name": "stdout",
     "output_type": "stream",
     "text": [
      "If error: TypeError - The amount has to be a number, got object\n"
     ]
    }
   ],
   "source": [
    "try:\n",
    "    b1.deposit(object())\n",
    "except Exception as e:\n",
    "    print(\"If error:\", type(e).__name__, \"-\", e)\n"
   ]
  }
 ],
 "metadata": {
  "kernelspec": {
   "display_name": "base",
   "language": "python",
   "name": "python3"
  },
  "language_info": {
   "codemirror_mode": {
    "name": "ipython",
    "version": 3
   },
   "file_extension": ".py",
   "mimetype": "text/x-python",
   "name": "python",
   "nbconvert_exporter": "python",
   "pygments_lexer": "ipython3",
   "version": "3.8.5"
  }
 },
 "nbformat": 4,
 "nbformat_minor": 5
}
